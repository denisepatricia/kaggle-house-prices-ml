{
 "cells": [
  {
   "cell_type": "markdown",
   "metadata": {},
   "source": [
    "## MANALO, DENISE PATRICIA B.\n",
    "<b>Section:</b> CpE 3201\n",
    "<p><b>Course Code and Subject:</b> CpEE 402 Cognate/Elective Course </p>\n",
    "<p><b>Date:</b> May 13, 2021 </p>"
   ]
  },
  {
   "cell_type": "markdown",
   "metadata": {},
   "source": [
    "In this activity, we'll use the Kaggle House Prices: Advanced Regression Techniques database (available at https://www.kaggle.com/c/house-prices-advanced-regression-techniques/data , that we did EDA, Exploratory Data Analysis and Visualization. This dataset is aimed toward solving a regression problem (that is, the target variable takes on a range of continuous values). In this activity, we will use decision trees, K-nearest neighbors, Random Forest, and gradient boosting algorithms to train individual regressors on the data. Then, we will build a stacked linear regression model that uses all these algorithms and compare the performance of each. We will use the mean absolute error (MAE) as the evaluation metric for this activity.\n",
    "\n",
    "The steps to be performed are as follows:"
   ]
  },
  {
   "cell_type": "markdown",
   "metadata": {},
   "source": [
    "## 1. Import the relevant libraries."
   ]
  },
  {
   "cell_type": "code",
   "execution_count": 218,
   "metadata": {},
   "outputs": [],
   "source": [
    "import pandas as pd\n",
    "import numpy as np\n",
    "import seaborn as sns\n",
    "import pickle\n",
    "\n",
    "%matplotlib inline\n",
    "import matplotlib.pyplot as plt\n",
    "\n",
    "from sklearn.model_selection import train_test_split\n",
    "from sklearn.metrics import mean_absolute_error\n",
    "from sklearn.model_selection import KFold"
   ]
  },
  {
   "cell_type": "code",
   "execution_count": 219,
   "metadata": {},
   "outputs": [],
   "source": [
    "from sklearn.linear_model import LinearRegression\n",
    "from sklearn.tree import DecisionTreeRegressor\n",
    "from sklearn.neighbors import KNeighborsRegressor\n",
    "from sklearn.ensemble import GradientBoostingRegressor, RandomForestRegressor"
   ]
  },
  {
   "cell_type": "markdown",
   "metadata": {},
   "source": [
    "## Read and preprocess data"
   ]
  },
  {
   "cell_type": "code",
   "execution_count": 220,
   "metadata": {},
   "outputs": [
    {
     "data": {
      "text/html": [
       "<div>\n",
       "<style scoped>\n",
       "    .dataframe tbody tr th:only-of-type {\n",
       "        vertical-align: middle;\n",
       "    }\n",
       "\n",
       "    .dataframe tbody tr th {\n",
       "        vertical-align: top;\n",
       "    }\n",
       "\n",
       "    .dataframe thead th {\n",
       "        text-align: right;\n",
       "    }\n",
       "</style>\n",
       "<table border=\"1\" class=\"dataframe\">\n",
       "  <thead>\n",
       "    <tr style=\"text-align: right;\">\n",
       "      <th></th>\n",
       "      <th>Id</th>\n",
       "      <th>MSSubClass</th>\n",
       "      <th>MSZoning</th>\n",
       "      <th>LotFrontage</th>\n",
       "      <th>LotArea</th>\n",
       "      <th>Street</th>\n",
       "      <th>Alley</th>\n",
       "      <th>LotShape</th>\n",
       "      <th>LandContour</th>\n",
       "      <th>Utilities</th>\n",
       "      <th>...</th>\n",
       "      <th>PoolArea</th>\n",
       "      <th>PoolQC</th>\n",
       "      <th>Fence</th>\n",
       "      <th>MiscFeature</th>\n",
       "      <th>MiscVal</th>\n",
       "      <th>MoSold</th>\n",
       "      <th>YrSold</th>\n",
       "      <th>SaleType</th>\n",
       "      <th>SaleCondition</th>\n",
       "      <th>SalePrice</th>\n",
       "    </tr>\n",
       "  </thead>\n",
       "  <tbody>\n",
       "    <tr>\n",
       "      <th>0</th>\n",
       "      <td>1</td>\n",
       "      <td>60</td>\n",
       "      <td>RL</td>\n",
       "      <td>65.0</td>\n",
       "      <td>8450</td>\n",
       "      <td>Pave</td>\n",
       "      <td>NaN</td>\n",
       "      <td>Reg</td>\n",
       "      <td>Lvl</td>\n",
       "      <td>AllPub</td>\n",
       "      <td>...</td>\n",
       "      <td>0</td>\n",
       "      <td>NaN</td>\n",
       "      <td>NaN</td>\n",
       "      <td>NaN</td>\n",
       "      <td>0</td>\n",
       "      <td>2</td>\n",
       "      <td>2008</td>\n",
       "      <td>WD</td>\n",
       "      <td>Normal</td>\n",
       "      <td>208500</td>\n",
       "    </tr>\n",
       "    <tr>\n",
       "      <th>1</th>\n",
       "      <td>2</td>\n",
       "      <td>20</td>\n",
       "      <td>RL</td>\n",
       "      <td>80.0</td>\n",
       "      <td>9600</td>\n",
       "      <td>Pave</td>\n",
       "      <td>NaN</td>\n",
       "      <td>Reg</td>\n",
       "      <td>Lvl</td>\n",
       "      <td>AllPub</td>\n",
       "      <td>...</td>\n",
       "      <td>0</td>\n",
       "      <td>NaN</td>\n",
       "      <td>NaN</td>\n",
       "      <td>NaN</td>\n",
       "      <td>0</td>\n",
       "      <td>5</td>\n",
       "      <td>2007</td>\n",
       "      <td>WD</td>\n",
       "      <td>Normal</td>\n",
       "      <td>181500</td>\n",
       "    </tr>\n",
       "    <tr>\n",
       "      <th>2</th>\n",
       "      <td>3</td>\n",
       "      <td>60</td>\n",
       "      <td>RL</td>\n",
       "      <td>68.0</td>\n",
       "      <td>11250</td>\n",
       "      <td>Pave</td>\n",
       "      <td>NaN</td>\n",
       "      <td>IR1</td>\n",
       "      <td>Lvl</td>\n",
       "      <td>AllPub</td>\n",
       "      <td>...</td>\n",
       "      <td>0</td>\n",
       "      <td>NaN</td>\n",
       "      <td>NaN</td>\n",
       "      <td>NaN</td>\n",
       "      <td>0</td>\n",
       "      <td>9</td>\n",
       "      <td>2008</td>\n",
       "      <td>WD</td>\n",
       "      <td>Normal</td>\n",
       "      <td>223500</td>\n",
       "    </tr>\n",
       "    <tr>\n",
       "      <th>3</th>\n",
       "      <td>4</td>\n",
       "      <td>70</td>\n",
       "      <td>RL</td>\n",
       "      <td>60.0</td>\n",
       "      <td>9550</td>\n",
       "      <td>Pave</td>\n",
       "      <td>NaN</td>\n",
       "      <td>IR1</td>\n",
       "      <td>Lvl</td>\n",
       "      <td>AllPub</td>\n",
       "      <td>...</td>\n",
       "      <td>0</td>\n",
       "      <td>NaN</td>\n",
       "      <td>NaN</td>\n",
       "      <td>NaN</td>\n",
       "      <td>0</td>\n",
       "      <td>2</td>\n",
       "      <td>2006</td>\n",
       "      <td>WD</td>\n",
       "      <td>Abnorml</td>\n",
       "      <td>140000</td>\n",
       "    </tr>\n",
       "    <tr>\n",
       "      <th>4</th>\n",
       "      <td>5</td>\n",
       "      <td>60</td>\n",
       "      <td>RL</td>\n",
       "      <td>84.0</td>\n",
       "      <td>14260</td>\n",
       "      <td>Pave</td>\n",
       "      <td>NaN</td>\n",
       "      <td>IR1</td>\n",
       "      <td>Lvl</td>\n",
       "      <td>AllPub</td>\n",
       "      <td>...</td>\n",
       "      <td>0</td>\n",
       "      <td>NaN</td>\n",
       "      <td>NaN</td>\n",
       "      <td>NaN</td>\n",
       "      <td>0</td>\n",
       "      <td>12</td>\n",
       "      <td>2008</td>\n",
       "      <td>WD</td>\n",
       "      <td>Normal</td>\n",
       "      <td>250000</td>\n",
       "    </tr>\n",
       "  </tbody>\n",
       "</table>\n",
       "<p>5 rows × 81 columns</p>\n",
       "</div>"
      ],
      "text/plain": [
       "   Id  MSSubClass MSZoning  LotFrontage  LotArea Street Alley LotShape  \\\n",
       "0   1          60       RL         65.0     8450   Pave   NaN      Reg   \n",
       "1   2          20       RL         80.0     9600   Pave   NaN      Reg   \n",
       "2   3          60       RL         68.0    11250   Pave   NaN      IR1   \n",
       "3   4          70       RL         60.0     9550   Pave   NaN      IR1   \n",
       "4   5          60       RL         84.0    14260   Pave   NaN      IR1   \n",
       "\n",
       "  LandContour Utilities  ... PoolArea PoolQC Fence MiscFeature MiscVal MoSold  \\\n",
       "0         Lvl    AllPub  ...        0    NaN   NaN         NaN       0      2   \n",
       "1         Lvl    AllPub  ...        0    NaN   NaN         NaN       0      5   \n",
       "2         Lvl    AllPub  ...        0    NaN   NaN         NaN       0      9   \n",
       "3         Lvl    AllPub  ...        0    NaN   NaN         NaN       0      2   \n",
       "4         Lvl    AllPub  ...        0    NaN   NaN         NaN       0     12   \n",
       "\n",
       "  YrSold  SaleType  SaleCondition  SalePrice  \n",
       "0   2008        WD         Normal     208500  \n",
       "1   2007        WD         Normal     181500  \n",
       "2   2008        WD         Normal     223500  \n",
       "3   2006        WD        Abnorml     140000  \n",
       "4   2008        WD         Normal     250000  \n",
       "\n",
       "[5 rows x 81 columns]"
      ]
     },
     "execution_count": 220,
     "metadata": {},
     "output_type": "execute_result"
    }
   ],
   "source": [
    "data = pd.read_csv('house_prices.csv')\n",
    "data.head()"
   ]
  },
  {
   "cell_type": "code",
   "execution_count": 221,
   "metadata": {},
   "outputs": [
    {
     "name": "stdout",
     "output_type": "stream",
     "text": [
      "<class 'pandas.core.frame.DataFrame'>\n",
      "RangeIndex: 1460 entries, 0 to 1459\n",
      "Data columns (total 81 columns):\n",
      " #   Column         Non-Null Count  Dtype  \n",
      "---  ------         --------------  -----  \n",
      " 0   Id             1460 non-null   int64  \n",
      " 1   MSSubClass     1460 non-null   int64  \n",
      " 2   MSZoning       1460 non-null   object \n",
      " 3   LotFrontage    1201 non-null   float64\n",
      " 4   LotArea        1460 non-null   int64  \n",
      " 5   Street         1460 non-null   object \n",
      " 6   Alley          91 non-null     object \n",
      " 7   LotShape       1460 non-null   object \n",
      " 8   LandContour    1460 non-null   object \n",
      " 9   Utilities      1460 non-null   object \n",
      " 10  LotConfig      1460 non-null   object \n",
      " 11  LandSlope      1460 non-null   object \n",
      " 12  Neighborhood   1460 non-null   object \n",
      " 13  Condition1     1460 non-null   object \n",
      " 14  Condition2     1460 non-null   object \n",
      " 15  BldgType       1460 non-null   object \n",
      " 16  HouseStyle     1460 non-null   object \n",
      " 17  OverallQual    1460 non-null   int64  \n",
      " 18  OverallCond    1460 non-null   int64  \n",
      " 19  YearBuilt      1460 non-null   int64  \n",
      " 20  YearRemodAdd   1460 non-null   int64  \n",
      " 21  RoofStyle      1460 non-null   object \n",
      " 22  RoofMatl       1460 non-null   object \n",
      " 23  Exterior1st    1460 non-null   object \n",
      " 24  Exterior2nd    1460 non-null   object \n",
      " 25  MasVnrType     1452 non-null   object \n",
      " 26  MasVnrArea     1452 non-null   float64\n",
      " 27  ExterQual      1460 non-null   object \n",
      " 28  ExterCond      1460 non-null   object \n",
      " 29  Foundation     1460 non-null   object \n",
      " 30  BsmtQual       1423 non-null   object \n",
      " 31  BsmtCond       1423 non-null   object \n",
      " 32  BsmtExposure   1422 non-null   object \n",
      " 33  BsmtFinType1   1423 non-null   object \n",
      " 34  BsmtFinSF1     1460 non-null   int64  \n",
      " 35  BsmtFinType2   1422 non-null   object \n",
      " 36  BsmtFinSF2     1460 non-null   int64  \n",
      " 37  BsmtUnfSF      1460 non-null   int64  \n",
      " 38  TotalBsmtSF    1460 non-null   int64  \n",
      " 39  Heating        1460 non-null   object \n",
      " 40  HeatingQC      1460 non-null   object \n",
      " 41  CentralAir     1460 non-null   object \n",
      " 42  Electrical     1459 non-null   object \n",
      " 43  1stFlrSF       1460 non-null   int64  \n",
      " 44  2ndFlrSF       1460 non-null   int64  \n",
      " 45  LowQualFinSF   1460 non-null   int64  \n",
      " 46  GrLivArea      1460 non-null   int64  \n",
      " 47  BsmtFullBath   1460 non-null   int64  \n",
      " 48  BsmtHalfBath   1460 non-null   int64  \n",
      " 49  FullBath       1460 non-null   int64  \n",
      " 50  HalfBath       1460 non-null   int64  \n",
      " 51  BedroomAbvGr   1460 non-null   int64  \n",
      " 52  KitchenAbvGr   1460 non-null   int64  \n",
      " 53  KitchenQual    1460 non-null   object \n",
      " 54  TotRmsAbvGrd   1460 non-null   int64  \n",
      " 55  Functional     1460 non-null   object \n",
      " 56  Fireplaces     1460 non-null   int64  \n",
      " 57  FireplaceQu    770 non-null    object \n",
      " 58  GarageType     1379 non-null   object \n",
      " 59  GarageYrBlt    1379 non-null   float64\n",
      " 60  GarageFinish   1379 non-null   object \n",
      " 61  GarageCars     1460 non-null   int64  \n",
      " 62  GarageArea     1460 non-null   int64  \n",
      " 63  GarageQual     1379 non-null   object \n",
      " 64  GarageCond     1379 non-null   object \n",
      " 65  PavedDrive     1460 non-null   object \n",
      " 66  WoodDeckSF     1460 non-null   int64  \n",
      " 67  OpenPorchSF    1460 non-null   int64  \n",
      " 68  EnclosedPorch  1460 non-null   int64  \n",
      " 69  3SsnPorch      1460 non-null   int64  \n",
      " 70  ScreenPorch    1460 non-null   int64  \n",
      " 71  PoolArea       1460 non-null   int64  \n",
      " 72  PoolQC         7 non-null      object \n",
      " 73  Fence          281 non-null    object \n",
      " 74  MiscFeature    54 non-null     object \n",
      " 75  MiscVal        1460 non-null   int64  \n",
      " 76  MoSold         1460 non-null   int64  \n",
      " 77  YrSold         1460 non-null   int64  \n",
      " 78  SaleType       1460 non-null   object \n",
      " 79  SaleCondition  1460 non-null   object \n",
      " 80  SalePrice      1460 non-null   int64  \n",
      "dtypes: float64(3), int64(35), object(43)\n",
      "memory usage: 924.0+ KB\n"
     ]
    }
   ],
   "source": [
    "data.info()"
   ]
  },
  {
   "cell_type": "markdown",
   "metadata": {},
   "source": [
    "## Preprocess the dataset to remove null values and one-hot encode categorical variables to prepare the data for modeling."
   ]
  },
  {
   "cell_type": "code",
   "execution_count": 222,
   "metadata": {},
   "outputs": [],
   "source": [
    "data=data.drop([\"Id\"],axis=1)"
   ]
  },
  {
   "cell_type": "code",
   "execution_count": 223,
   "metadata": {},
   "outputs": [],
   "source": [
    "data.drop(\"Alley\", axis=1, inplace=True)\n",
    "data.drop(\"PoolQC\", axis=1, inplace=True)\n",
    "data.drop(\"MiscFeature\", axis=1, inplace=True)\n",
    "data.drop(\"Fence\", axis=1, inplace=True)"
   ]
  },
  {
   "cell_type": "code",
   "execution_count": 224,
   "metadata": {},
   "outputs": [
    {
     "data": {
      "text/plain": [
       "['MSSubClass',\n",
       " 'LotFrontage',\n",
       " 'LotArea',\n",
       " 'OverallQual',\n",
       " 'OverallCond',\n",
       " 'YearBuilt',\n",
       " 'YearRemodAdd',\n",
       " 'MasVnrArea',\n",
       " 'BsmtFinSF1',\n",
       " 'BsmtFinSF2',\n",
       " 'BsmtUnfSF',\n",
       " 'TotalBsmtSF',\n",
       " '1stFlrSF',\n",
       " '2ndFlrSF',\n",
       " 'LowQualFinSF',\n",
       " 'GrLivArea',\n",
       " 'BsmtFullBath',\n",
       " 'BsmtHalfBath',\n",
       " 'FullBath',\n",
       " 'HalfBath',\n",
       " 'BedroomAbvGr',\n",
       " 'KitchenAbvGr',\n",
       " 'TotRmsAbvGrd',\n",
       " 'Fireplaces',\n",
       " 'GarageYrBlt',\n",
       " 'GarageCars',\n",
       " 'GarageArea',\n",
       " 'WoodDeckSF',\n",
       " 'OpenPorchSF',\n",
       " 'EnclosedPorch',\n",
       " '3SsnPorch',\n",
       " 'ScreenPorch',\n",
       " 'PoolArea',\n",
       " 'MiscVal',\n",
       " 'MoSold',\n",
       " 'YrSold',\n",
       " 'SalePrice']"
      ]
     },
     "execution_count": 224,
     "metadata": {},
     "output_type": "execute_result"
    }
   ],
   "source": [
    "num_col=data._get_numeric_data().columns.tolist()\n",
    "num_col"
   ]
  },
  {
   "cell_type": "code",
   "execution_count": 225,
   "metadata": {},
   "outputs": [
    {
     "data": {
      "text/plain": [
       "{'BldgType',\n",
       " 'BsmtCond',\n",
       " 'BsmtExposure',\n",
       " 'BsmtFinType1',\n",
       " 'BsmtFinType2',\n",
       " 'BsmtQual',\n",
       " 'CentralAir',\n",
       " 'Condition1',\n",
       " 'Condition2',\n",
       " 'Electrical',\n",
       " 'ExterCond',\n",
       " 'ExterQual',\n",
       " 'Exterior1st',\n",
       " 'Exterior2nd',\n",
       " 'FireplaceQu',\n",
       " 'Foundation',\n",
       " 'Functional',\n",
       " 'GarageCond',\n",
       " 'GarageFinish',\n",
       " 'GarageQual',\n",
       " 'GarageType',\n",
       " 'Heating',\n",
       " 'HeatingQC',\n",
       " 'HouseStyle',\n",
       " 'KitchenQual',\n",
       " 'LandContour',\n",
       " 'LandSlope',\n",
       " 'LotConfig',\n",
       " 'LotShape',\n",
       " 'MSZoning',\n",
       " 'MasVnrType',\n",
       " 'Neighborhood',\n",
       " 'PavedDrive',\n",
       " 'RoofMatl',\n",
       " 'RoofStyle',\n",
       " 'SaleCondition',\n",
       " 'SaleType',\n",
       " 'Street',\n",
       " 'Utilities'}"
      ]
     },
     "execution_count": 225,
     "metadata": {},
     "output_type": "execute_result"
    }
   ],
   "source": [
    "cat_col=set(data.columns)-set(num_col)\n",
    "cat_col"
   ]
  },
  {
   "cell_type": "code",
   "execution_count": 227,
   "metadata": {},
   "outputs": [
    {
     "data": {
      "text/plain": [
       "(1460, 276)"
      ]
     },
     "execution_count": 227,
     "metadata": {},
     "output_type": "execute_result"
    }
   ],
   "source": [
    "for col in num_col:\n",
    "    data[col].fillna(data[col].mean(),inplace=True)\n",
    "for col in cat_col:\n",
    "    data[col].fillna(data[col].mode()[0],inplace=True)\n",
    "data_final=pd.get_dummies(data) \n",
    "data_final.shape"
   ]
  },
  {
   "cell_type": "markdown",
   "metadata": {},
   "source": [
    "## Divide the dataset into train and validation DataFrames."
   ]
  },
  {
   "cell_type": "code",
   "execution_count": 228,
   "metadata": {},
   "outputs": [],
   "source": [
    "x=data_final.drop([\"SalePrice\"],axis=True)\n",
    "y=data_final[\"SalePrice\"]"
   ]
  },
  {
   "cell_type": "code",
   "execution_count": 229,
   "metadata": {},
   "outputs": [],
   "source": [
    "x_train,x_val,y_train,y_val=train_test_split(x,y,test_size=0.3,random_state=11)"
   ]
  },
  {
   "cell_type": "markdown",
   "metadata": {},
   "source": [
    "## Initialize dictionaries in which to store the train and validation MAE values."
   ]
  },
  {
   "cell_type": "code",
   "execution_count": 250,
   "metadata": {},
   "outputs": [],
   "source": [
    "train_mae_values = {\n",
    "    'dt':dt_mae_train,\n",
    "    'gbr':gbr_mae_train,\n",
    "    'knn':knn_mae_train,\n",
    "    'lr':lr_mae_train,\n",
    "    'rf':rf_mae_train   \n",
    "}\n",
    "\n",
    "val_mae_values = {\n",
    "    'dt':dt_mae_val,\n",
    "    'gbr':gbr_mae_val,\n",
    "    'knn':knn_mae_val,\n",
    "    'lr':lr_mae_val,\n",
    "    'rf':rf_mae_val\n",
    "}"
   ]
  },
  {
   "cell_type": "markdown",
   "metadata": {},
   "source": [
    "## Train a decision tree model with the following hyperparameters and save the scores:"
   ]
  },
  {
   "cell_type": "code",
   "execution_count": 230,
   "metadata": {},
   "outputs": [],
   "source": [
    "dt_params = {\n",
    "    'criterion': 'mae',\n",
    "    'min_samples_leaf': 10,\n",
    "    'random_state': 11\n",
    "}\n",
    "\n",
    "#insert code here for modelling\n",
    "dt = DecisionTreeRegressor(**dt_params)\n",
    "dt.fit(x_train, y_train)\n",
    "dt_preds_train = dt.predict(x_train)\n",
    "dt_preds_val = dt.predict(x_val)"
   ]
  },
  {
   "cell_type": "code",
   "execution_count": 231,
   "metadata": {},
   "outputs": [
    {
     "data": {
      "text/plain": [
       "0.8566570066824335"
      ]
     },
     "execution_count": 231,
     "metadata": {},
     "output_type": "execute_result"
    }
   ],
   "source": [
    "dt.score(x_train, y_train)"
   ]
  },
  {
   "cell_type": "code",
   "execution_count": 232,
   "metadata": {},
   "outputs": [],
   "source": [
    "dt_mae_train = mean_absolute_error(y_train,dt_preds_train)\n",
    "dt_mae_val = mean_absolute_error(y_val,dt_preds_val)"
   ]
  },
  {
   "cell_type": "code",
   "execution_count": 252,
   "metadata": {},
   "outputs": [
    {
     "name": "stdout",
     "output_type": "stream",
     "text": [
      "Decision Tree Model Scores: \n",
      " Mean Absolute Error on training data = 16982.2622\n",
      " Mean Absolute Error on validation data = 24276.8973\n"
     ]
    }
   ],
   "source": [
    "print ('Decision Tree Model Scores: \\n Mean Absolute Error on training data = {:.4f}\\n Mean Absolute Error on validation data = {:.4f}'.format(\n",
    "    dt_mae_train,\n",
    "    dt_mae_val\n",
    "))"
   ]
  },
  {
   "cell_type": "markdown",
   "metadata": {},
   "source": [
    "## Train a k-nearest neighbors model with the following hyperparameters and save the scores:"
   ]
  },
  {
   "cell_type": "code",
   "execution_count": 234,
   "metadata": {},
   "outputs": [],
   "source": [
    "knn_params = {\n",
    "    'n_neighbors': 5\n",
    "}\n",
    "\n",
    "#insert code here for modelling\n",
    "knn = KNeighborsRegressor(**knn_params)\n",
    "knn.fit(x_train, y_train)\n",
    "knn_preds_train = knn.predict(x_train)\n",
    "knn_preds_val = knn.predict(x_val)"
   ]
  },
  {
   "cell_type": "code",
   "execution_count": 235,
   "metadata": {},
   "outputs": [],
   "source": [
    "knn_mae_train = mean_absolute_error(y_train,knn_preds_train)\n",
    "knn_mae_val = mean_absolute_error(y_val,knn_preds_val)"
   ]
  },
  {
   "cell_type": "code",
   "execution_count": 253,
   "metadata": {},
   "outputs": [
    {
     "name": "stdout",
     "output_type": "stream",
     "text": [
      "KNN Model Scores: \n",
      " Mean Absolute Error on training data = 24116.0419\n",
      " Mean Absolute Error on validation data = 29812.0324\n"
     ]
    }
   ],
   "source": [
    "print ('KNN Model Scores: \\n Mean Absolute Error on training data = {:.4f}\\n Mean Absolute Error on validation data = {:.4f}'.format(\n",
    "    knn_mae_train,\n",
    "    knn_mae_val\n",
    "))"
   ]
  },
  {
   "cell_type": "markdown",
   "metadata": {},
   "source": [
    "## Train a Random Forest model with the following hyperparameters and save the scores:"
   ]
  },
  {
   "cell_type": "code",
   "execution_count": 254,
   "metadata": {},
   "outputs": [],
   "source": [
    "rf_params = {\n",
    "    'n_estimators': 50,\n",
    "    'criterion': 'mae',\n",
    "    'max_features': 'sqrt',\n",
    "    'min_samples_leaf': 10,\n",
    "    'random_state': 11,\n",
    "    'n_jobs': -1\n",
    "}\n",
    "#insert code here for modelling\n",
    "rf = RandomForestRegressor(**rf_params)\n",
    "rf.fit(x_train, y_train)\n",
    "rf_preds_train = rf.predict(x_train)\n",
    "rf_preds_val = rf.predict(x_val)"
   ]
  },
  {
   "cell_type": "code",
   "execution_count": 255,
   "metadata": {},
   "outputs": [],
   "source": [
    "rf_mae_train = mean_absolute_error(y_train,rf_preds_train)\n",
    "rf_mae_val = mean_absolute_error(y_val,rf_preds_val)"
   ]
  },
  {
   "cell_type": "code",
   "execution_count": 256,
   "metadata": {},
   "outputs": [
    {
     "name": "stdout",
     "output_type": "stream",
     "text": [
      "Random Forest Model Scores: \n",
      " Mean Absolute Error on training data = 20021.3430\n",
      " Mean Absolute Error on validation data = 22479.1794\n"
     ]
    }
   ],
   "source": [
    "print ('Random Forest Model Scores: \\n Mean Absolute Error on training data = {:.4f}\\n Mean Absolute Error on validation data = {:.4f}'.format(\n",
    "    rf_mae_train,\n",
    "    rf_mae_val\n",
    "))"
   ]
  },
  {
   "cell_type": "markdown",
   "metadata": {},
   "source": [
    "## Train a gradient boosting model with the following hyperparameters and save the scores:"
   ]
  },
  {
   "cell_type": "code",
   "execution_count": 240,
   "metadata": {},
   "outputs": [],
   "source": [
    "gbr_params = {\n",
    "    'n_estimators': 50,\n",
    "    'criterion': 'mae',\n",
    "    'max_features': 'sqrt',\n",
    "    'min_samples_leaf': 10,\n",
    "    'random_state': 11\n",
    "}\n",
    "#insert code here for modelling\n",
    "gbr = GradientBoostingRegressor(**gbr_params)\n",
    "gbr.fit(x_train, y_train)\n",
    "gbr_preds_train = gbr.predict(x_train)\n",
    "gbr_preds_val = gbr.predict(x_val)"
   ]
  },
  {
   "cell_type": "code",
   "execution_count": 241,
   "metadata": {},
   "outputs": [],
   "source": [
    "gbr_mae_train = mean_absolute_error(y_train,gbr_preds_train)\n",
    "gbr_mae_val = mean_absolute_error(y_val,gbr_preds_val)"
   ]
  },
  {
   "cell_type": "code",
   "execution_count": 257,
   "metadata": {},
   "outputs": [
    {
     "name": "stdout",
     "output_type": "stream",
     "text": [
      "Gradient Boosting Model Scores: \n",
      " Mean Absolute Error on training data = 16342.7164\n",
      " Mean Absolute Error on validation data = 19167.4943\n"
     ]
    }
   ],
   "source": [
    "print ('Gradient Boosting Model Scores: \\n Mean Absolute Error on training data = {:.4f}\\n Mean Absolute Error on validation data = {:.4f}'.format(\n",
    "    gbr_mae_train,\n",
    "    gbr_mae_val\n",
    "))"
   ]
  },
  {
   "cell_type": "markdown",
   "metadata": {},
   "source": [
    "## Prepare the training and validation datasets, with the four meta estimators having the same hyperparameters that were used in the previous steps."
   ]
  },
  {
   "cell_type": "code",
   "execution_count": 243,
   "metadata": {},
   "outputs": [
    {
     "name": "stdout",
     "output_type": "stream",
     "text": [
      "[[ 5.0000e+01  5.0000e+01  6.0000e+03 ... -1.0000e+00 -1.0000e+00\n",
      "  -1.0000e+00]\n",
      " [ 6.0000e+01  8.5000e+01  1.0800e+04 ... -1.0000e+00 -1.0000e+00\n",
      "  -1.0000e+00]\n",
      " [ 3.0000e+01  6.0000e+01  8.9670e+03 ... -1.0000e+00 -1.0000e+00\n",
      "  -1.0000e+00]\n",
      " ...\n",
      " [ 2.0000e+01  1.2400e+02  1.6158e+04 ... -1.0000e+00 -1.0000e+00\n",
      "  -1.0000e+00]\n",
      " [ 2.0000e+01  9.3000e+01  1.2085e+04 ... -1.0000e+00 -1.0000e+00\n",
      "  -1.0000e+00]\n",
      " [ 1.6000e+02  2.4000e+01  2.0160e+03 ... -1.0000e+00 -1.0000e+00\n",
      "  -1.0000e+00]]\n"
     ]
    }
   ],
   "source": [
    "x_train_with_metapreds = np.zeros((x_train.shape[0], x_train.shape[1]+4))\n",
    "x_train_with_metapreds[:, :-4] = x_train\n",
    "x_train_with_metapreds[:, -4:] = -1\n",
    "print(x_train_with_metapreds)"
   ]
  },
  {
   "cell_type": "code",
   "execution_count": 244,
   "metadata": {},
   "outputs": [],
   "source": [
    "kf = KFold(n_splits=5)\n",
    "\n",
    "for train_indices, val_indices in kf.split(x_train):\n",
    "    kfold_x_train, kfold_x_val = x_train.iloc[train_indices], x_train.iloc[val_indices]\n",
    "    kfold_y_train, kfold_y_val = y_train.iloc[train_indices], y_train.iloc[val_indices]\n",
    "    \n",
    "    dt = DecisionTreeRegressor(**dt_params)\n",
    "    dt.fit(kfold_x_train, kfold_y_train)\n",
    "    dt_pred = dt.predict(kfold_x_val)\n",
    "    \n",
    "    knn = KNeighborsRegressor(**knn_params)\n",
    "    knn.fit(kfold_x_train, kfold_y_train)\n",
    "    knn_pred = knn.predict(kfold_x_val)\n",
    "    \n",
    "    rf = RandomForestRegressor(**rf_params)\n",
    "    rf.fit(kfold_x_train, kfold_y_train)\n",
    "    rf_pred = rf.predict(kfold_x_val)\n",
    "    \n",
    "    gbr = GradientBoostingRegressor(**gbr_params)\n",
    "    gbr.fit(kfold_x_train, kfold_y_train)\n",
    "    gbr_pred = gbr.predict(kfold_x_val)\n",
    "    \n",
    "    x_train_with_metapreds[val_indices, -4] = dt_pred\n",
    "    x_train_with_metapreds[val_indices, -3] = knn_pred\n",
    "    x_train_with_metapreds[val_indices, -2] = rf_pred\n",
    "    x_train_with_metapreds[val_indices, -1] = gbr_pred"
   ]
  },
  {
   "cell_type": "code",
   "execution_count": 245,
   "metadata": {},
   "outputs": [
    {
     "name": "stdout",
     "output_type": "stream",
     "text": [
      "[[ 4.5000e+01  5.5000e+01  4.3880e+03 ... -1.0000e+00 -1.0000e+00\n",
      "  -1.0000e+00]\n",
      " [ 2.0000e+01  8.0000e+01  9.6000e+03 ... -1.0000e+00 -1.0000e+00\n",
      "  -1.0000e+00]\n",
      " [ 3.0000e+01  5.0000e+01  5.3300e+03 ... -1.0000e+00 -1.0000e+00\n",
      "  -1.0000e+00]\n",
      " ...\n",
      " [ 2.0000e+01  8.1000e+01  1.1216e+04 ... -1.0000e+00 -1.0000e+00\n",
      "  -1.0000e+00]\n",
      " [ 1.6000e+02  2.1000e+01  1.6800e+03 ... -1.0000e+00 -1.0000e+00\n",
      "  -1.0000e+00]\n",
      " [ 2.0000e+01  1.1400e+02  1.0357e+04 ... -1.0000e+00 -1.0000e+00\n",
      "  -1.0000e+00]]\n"
     ]
    }
   ],
   "source": [
    "x_val_with_metapreds = np.zeros((x_val.shape[0], x_val.shape[1]+4))\n",
    "x_val_with_metapreds[:, :-4] = x_val\n",
    "x_val_with_metapreds[:, -4:] = -1\n",
    "print(x_val_with_metapreds)"
   ]
  },
  {
   "cell_type": "code",
   "execution_count": 246,
   "metadata": {},
   "outputs": [],
   "source": [
    "    dt = DecisionTreeRegressor(**dt_params)\n",
    "    dt.fit(x_train, y_train)\n",
    "    dt_pred = dt.predict(x_val)\n",
    "\n",
    "    knn = KNeighborsRegressor(**knn_params)\n",
    "    knn.fit(x_train, y_train)\n",
    "    knn_pred = knn.predict(x_val)\n",
    "\n",
    "    rf = RandomForestRegressor(**rf_params)\n",
    "    rf.fit(x_train, y_train)\n",
    "    rf_pred = rf.predict(x_val)\n",
    "\n",
    "    gbr = GradientBoostingRegressor(**gbr_params)\n",
    "    gbr.fit(x_train, y_train)\n",
    "    gbr_pred = gbr.predict(x_val)\n",
    "    \n",
    "    x_val_with_metapreds[:, -4] = dt_pred\n",
    "    x_val_with_metapreds[:, -3] = knn_pred\n",
    "    x_val_with_metapreds[:, -2] = rf_pred\n",
    "    x_val_with_metapreds[:, -1] = gbr_pred"
   ]
  },
  {
   "cell_type": "markdown",
   "metadata": {},
   "source": [
    "## Train a linear regression model as the stacked model."
   ]
  },
  {
   "cell_type": "code",
   "execution_count": 247,
   "metadata": {},
   "outputs": [],
   "source": [
    "lr = LinearRegression()\n",
    "lr.fit(x_train_with_metapreds, y_train)\n",
    "lr_preds_train = lr.predict(x_train_with_metapreds)\n",
    "lr_preds_val = lr.predict(x_val_with_metapreds)"
   ]
  },
  {
   "cell_type": "code",
   "execution_count": 248,
   "metadata": {},
   "outputs": [],
   "source": [
    "lr_mae_train = mean_absolute_error(y_train,lr_preds_train)\n",
    "lr_mae_val = mean_absolute_error(y_val,lr_preds_val)"
   ]
  },
  {
   "cell_type": "code",
   "execution_count": 258,
   "metadata": {},
   "outputs": [
    {
     "name": "stdout",
     "output_type": "stream",
     "text": [
      "Linear Regression Model Scores: \n",
      " Mean Absolute Error on training data = 11800.3437\n",
      " Mean Absolute Error on validation data = 18202.2126\n"
     ]
    }
   ],
   "source": [
    "print ('Linear Regression Model Scores: \\n Mean Absolute Error on training data = {:.4f}\\n Mean Absolute Error on validation data = {:.4f}'.format(\n",
    "    lr_mae_train,\n",
    "    lr_mae_val\n",
    "))"
   ]
  },
  {
   "cell_type": "markdown",
   "metadata": {},
   "source": [
    "## Visualize the train and validation errors for each individual model and the stacked model."
   ]
  },
  {
   "cell_type": "code",
   "execution_count": 251,
   "metadata": {},
   "outputs": [
    {
     "data": {
      "image/png": "[encoded data removed]",
      "text/plain": [
       "<Figure size 1080x936 with 1 Axes>"
      ]
     },
     "metadata": {
      "needs_background": "light"
     },
     "output_type": "display_data"
    }
   ],
   "source": [
    "index = np.arange(5)\n",
    "bar_width = 0.25\n",
    "\n",
    "fig, ax = plt.subplots(figsize=(15,13))\n",
    "\n",
    "names = list(train_mae_values.keys())\n",
    "train_values = list(train_mae_values.values())\n",
    "val_values = list(val_mae_values.values())\n",
    "\n",
    "trainbar = ax.bar(index, train_values, bar_width,\n",
    "                label=\"train\")\n",
    "\n",
    "val = ax.bar(index+bar_width,val_values,\n",
    "                 bar_width, label=\"val\")\n",
    "\n",
    "ax.set_xlabel('Model', fontsize = 15)\n",
    "ax.set_ylabel('MAE', fontsize = 15)\n",
    "ax.set_xticks(index + bar_width / 2)\n",
    "ax.set_xticklabels(names, fontsize = 15)\n",
    "ax.legend(fontsize = 14)\n",
    "plt.xticks(rotation = 90)\n",
    "\n",
    "plt.show()"
   ]
  },
  {
   "cell_type": "markdown",
   "metadata": {},
   "source": [
    "Reference Result/Output:"
   ]
  },
  {
   "attachments": {
    "image.png": {
     "image/png": "[encoded data removed]"
    }
   },
   "cell_type": "markdown",
   "metadata": {},
   "source": [
    "![image.png](attachment:image.png)"
   ]
  }
 ],
 "metadata": {
  "kernelspec": {
   "display_name": "Python 3",
   "language": "python",
   "name": "python3"
  },
  "language_info": {
   "codemirror_mode": {
    "name": "ipython",
    "version": 3
   },
   "file_extension": ".py",
   "mimetype": "text/x-python",
   "name": "python",
   "nbconvert_exporter": "python",
   "pygments_lexer": "ipython3",
   "version": "3.8.5"
  }
 },
 "nbformat": 4,
 "nbformat_minor": 2
}
